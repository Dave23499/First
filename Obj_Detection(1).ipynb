{
 "cells": [
  {
   "cell_type": "code",
   "execution_count": 1,
   "id": "68bd52c8-8f5e-4b27-a5ee-e7d17a610b70",
   "metadata": {},
   "outputs": [],
   "source": [
    "import cv2\n",
    "import numpy as np"
   ]
  },
  {
   "cell_type": "code",
   "execution_count": 2,
   "id": "0579ccd8-423b-484f-9dda-f1e3953faa68",
   "metadata": {},
   "outputs": [],
   "source": [
    "yolo_net = cv2.dnn.readNet(\"Path to yolo config\", \"Path to yolo weights\")"
   ]
  },
  {
   "cell_type": "code",
   "execution_count": 3,
   "id": "b2d411b6-81b3-4585-b72b-5ef5c681e6c1",
   "metadata": {},
   "outputs": [],
   "source": [
    "with open(\"Path to coco.names\") as f:\n",
    "    classes = [line.strip() for line in f.readlines()]"
   ]
  },
  {
   "cell_type": "code",
   "execution_count": 1,
   "id": "4da12d60-0cee-43d2-b168-6838300f3098",
   "metadata": {},
   "outputs": [],
   "source": [
    "# classes"
   ]
  },
  {
   "cell_type": "code",
   "execution_count": 2,
   "id": "ca8a8cd8-0cf8-42b8-8953-7c2b0cbff845",
   "metadata": {},
   "outputs": [],
   "source": [
    "# yolo_net.getLayerNames()"
   ]
  },
  {
   "cell_type": "code",
   "execution_count": 6,
   "id": "d1bcc7b8-8cee-4b6d-b93d-e0e9db758c60",
   "metadata": {},
   "outputs": [
    {
     "data": {
      "text/plain": [
       "('yolo_82', 'yolo_94', 'yolo_106')"
      ]
     },
     "execution_count": 6,
     "metadata": {},
     "output_type": "execute_result"
    }
   ],
   "source": [
    "output_layers = yolo_net.getUnconnectedOutLayersNames()\n",
    "output_layers"
   ]
  },
  {
   "cell_type": "code",
   "execution_count": 7,
   "id": "30875d39-a805-4ce4-98e9-145b3c436f7a",
   "metadata": {},
   "outputs": [],
   "source": [
    "image = cv2.imread(\"Path to kite.jpg\") #you could use any other picture but you'd have to tune the parameters to fit the picture. "
   ]
  },
  {
   "cell_type": "code",
   "execution_count": 8,
   "id": "33367c2f-6739-4536-b8a0-9edfbfed533c",
   "metadata": {},
   "outputs": [
    {
     "data": {
      "text/plain": [
       "-1"
      ]
     },
     "execution_count": 8,
     "metadata": {},
     "output_type": "execute_result"
    }
   ],
   "source": [
    "cv2.imshow('image', image)\n",
    "cv2.waitKey(0)"
   ]
  },
  {
   "cell_type": "code",
   "execution_count": 15,
   "id": "673657ac-2ef3-496f-b1f2-3985394f07ba",
   "metadata": {},
   "outputs": [],
   "source": [
    "image = cv2.resize(image, (416, 416))"
   ]
  },
  {
   "cell_type": "code",
   "execution_count": 18,
   "id": "5781c2df-4602-46f6-98da-0a234fce1721",
   "metadata": {},
   "outputs": [],
   "source": [
    "blob = cv2.dnn.blobFromImage(image, 1/255, (416, 416), swapRB = True, crop = False)"
   ]
  },
  {
   "cell_type": "code",
   "execution_count": 19,
   "id": "7f7bc51f-1125-493a-a7d7-f2d1363c2b62",
   "metadata": {},
   "outputs": [
    {
     "data": {
      "text/plain": [
       "(1, 3, 416, 416)"
      ]
     },
     "execution_count": 19,
     "metadata": {},
     "output_type": "execute_result"
    }
   ],
   "source": [
    "blob.shape"
   ]
  },
  {
   "cell_type": "code",
   "execution_count": 20,
   "id": "8875dd3d-0239-4239-a99f-832755c39e49",
   "metadata": {},
   "outputs": [],
   "source": [
    "yolo_net.setInput(blob)"
   ]
  },
  {
   "cell_type": "code",
   "execution_count": 21,
   "id": "534cca2b-f31b-456e-ae21-3a2b441150cb",
   "metadata": {},
   "outputs": [],
   "source": [
    "outputs = yolo_net.forward(output_layers)"
   ]
  },
  {
   "cell_type": "code",
   "execution_count": 22,
   "id": "ab82b392-2eef-4b5d-919d-bfe85aa1dcf7",
   "metadata": {},
   "outputs": [
    {
     "name": "stdout",
     "output_type": "stream",
     "text": [
      "<class 'tuple'>\n"
     ]
    }
   ],
   "source": [
    "print(type(outputs))"
   ]
  },
  {
   "cell_type": "code",
   "execution_count": 23,
   "id": "b3a66c31-6597-4dd8-bd82-b54f63c94ce2",
   "metadata": {},
   "outputs": [],
   "source": [
    "height, widht, _ = image.shape\n",
    "boxes = []\n",
    "class_ids = []\n",
    "confidences = []\n",
    "for output in outputs:\n",
    "    for detection in output:\n",
    "        scores = detection[5:]\n",
    "        confidence = float(np.max(scores))\n",
    "        if confidence > 0.6:\n",
    "            class_id = int(np.argmax(scores))\n",
    "            \n",
    "            cx = detection[0] * widht\n",
    "            cy = detection[1] * height\n",
    "            \n",
    "            w = int(detection[2] * widht)\n",
    "            h = int(detection[3] * height)\n",
    "            \n",
    "            x = int(cx - w/2)\n",
    "            y = int(cy - h/2)\n",
    "            \n",
    "            boxes.append((x, y, w, h))\n",
    "            confidences.append(confidence)\n",
    "            class_ids.append(class_id)"
   ]
  },
  {
   "cell_type": "code",
   "execution_count": 24,
   "id": "35942432-ca64-4a8f-aa2f-eee701e720f1",
   "metadata": {},
   "outputs": [
    {
     "data": {
      "text/plain": [
       "15"
      ]
     },
     "execution_count": 24,
     "metadata": {},
     "output_type": "execute_result"
    }
   ],
   "source": [
    "len(boxes)"
   ]
  },
  {
   "cell_type": "code",
   "execution_count": 25,
   "id": "f0af40dc-9603-4359-87d7-859ae015d478",
   "metadata": {},
   "outputs": [],
   "source": [
    "indices = cv2.dnn.NMSBoxes(boxes, confidences, 0.6, 0.4)"
   ]
  },
  {
   "cell_type": "code",
   "execution_count": 26,
   "id": "c30a5567-c55a-49b0-aadf-e604f74c1f39",
   "metadata": {},
   "outputs": [
    {
     "data": {
      "text/plain": [
       "array([ 1,  3,  4,  8,  9, 13, 14,  7, 10, 12,  6])"
      ]
     },
     "execution_count": 26,
     "metadata": {},
     "output_type": "execute_result"
    }
   ],
   "source": [
    "indices"
   ]
  },
  {
   "cell_type": "code",
   "execution_count": 27,
   "id": "b6f54319-c1f4-417e-be74-a1e373ab61e7",
   "metadata": {},
   "outputs": [
    {
     "data": {
      "text/plain": [
       "11"
      ]
     },
     "execution_count": 27,
     "metadata": {},
     "output_type": "execute_result"
    }
   ],
   "source": [
    "len(indices)"
   ]
  },
  {
   "cell_type": "code",
   "execution_count": 28,
   "id": "0ccedcb4-1e8e-4353-b8f3-7387a02d2af1",
   "metadata": {},
   "outputs": [],
   "source": [
    "for index in indices:\n",
    "    x,y,w,h = boxes[index]\n",
    "    confidence = confidences[index]\n",
    "    label = classes[class_ids[index]]\n",
    "    image = cv2.rectangle(image, (x,y), (x+w, y+h), (255,54,45), 1)\n",
    "    image = cv2.putText(image, str(label) + ':' + str(round(confidence, 2)), (x, y-2), cv2.FONT_ITALIC, 1, (255,54,45), 1)"
   ]
  },
  {
   "cell_type": "code",
   "execution_count": 29,
   "id": "da996890-9748-4a98-9036-27cca2a5703c",
   "metadata": {},
   "outputs": [
    {
     "data": {
      "text/plain": [
       "-1"
      ]
     },
     "execution_count": 29,
     "metadata": {},
     "output_type": "execute_result"
    }
   ],
   "source": [
    "cv2.imshow('image', image)\n",
    "cv2.waitKey(0)"
   ]
  },
  {
   "cell_type": "code",
   "execution_count": null,
   "id": "da5c9559-5aa6-4428-9fdf-f2eed34626b5",
   "metadata": {},
   "outputs": [],
   "source": []
  }
 ],
 "metadata": {
  "kernelspec": {
   "display_name": "Python 3 (ipykernel)",
   "language": "python",
   "name": "python3"
  },
  "language_info": {
   "codemirror_mode": {
    "name": "ipython",
    "version": 3
   },
   "file_extension": ".py",
   "mimetype": "text/x-python",
   "name": "python",
   "nbconvert_exporter": "python",
   "pygments_lexer": "ipython3",
   "version": "3.8.8"
  }
 },
 "nbformat": 4,
 "nbformat_minor": 5
}
